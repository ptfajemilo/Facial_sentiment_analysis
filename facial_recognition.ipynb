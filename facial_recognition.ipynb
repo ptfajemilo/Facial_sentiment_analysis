{
 "cells": [
  {
   "cell_type": "code",
   "execution_count": 1,
   "id": "1101473f",
   "metadata": {},
   "outputs": [],
   "source": [
    "from keras.preprocessing.image import ImageDataGenerator\n",
    "from keras.models import Sequential\n",
    "from keras.layers import Dense, Dropout, Flatten\n",
    "from keras.layers import Conv2D, MaxPooling2D\n",
    "import os"
   ]
  },
  {
   "cell_type": "code",
   "execution_count": 2,
   "id": "2849f268",
   "metadata": {},
   "outputs": [],
   "source": [
    "train_data_dir = 'train/'\n",
    "validation_data_dir = 'test/'\n"
   ]
  },
  {
   "cell_type": "code",
   "execution_count": 3,
   "id": "c495aabd",
   "metadata": {},
   "outputs": [],
   "source": [
    "train_datagen = ImageDataGenerator(\n",
    "                    rescale=1./255,\n",
    "                    rotation_range=30,\n",
    "                    shear_range=0.3,\n",
    "                    zoom_range=0.3,\n",
    "                    horizontal_flip=True,\n",
    "                    fill_mode='nearest')\n",
    "\n",
    "validation_datagen = ImageDataGenerator(rescale=1./255)"
   ]
  },
  {
   "cell_type": "code",
   "execution_count": 4,
   "id": "e713d6cc",
   "metadata": {},
   "outputs": [
    {
     "name": "stdout",
     "output_type": "stream",
     "text": [
      "Found 28709 images belonging to 7 classes.\n",
      "Found 7178 images belonging to 7 classes.\n"
     ]
    }
   ],
   "source": [
    "train_generator = train_datagen.flow_from_directory(train_data_dir,\n",
    "                                                   color_mode='grayscale',\n",
    "                                                   target_size=(48,48),\n",
    "                                                   batch_size=32,\n",
    "                                                   class_mode='categorical',\n",
    "                                                   shuffle=True\n",
    "                                                   )\n",
    "\n",
    "validation_generator = validation_datagen.flow_from_directory(validation_data_dir,\n",
    "                                                   color_mode='grayscale',\n",
    "                                                   target_size=(48,48),\n",
    "                                                   batch_size=32,\n",
    "                                                   class_mode='categorical',\n",
    "                                                   shuffle=True\n",
    "                                                   )"
   ]
  },
  {
   "cell_type": "code",
   "execution_count": 5,
   "id": "72c90898",
   "metadata": {},
   "outputs": [],
   "source": [
    "class_labels= ['Angry', 'Disgust','Fear', 'Happy', 'Neural', 'sad', 'Surprise' ]\n",
    "\n",
    "img, label = train_generator.__next__()"
   ]
  },
  {
   "cell_type": "code",
   "execution_count": 6,
   "id": "489473a8",
   "metadata": {},
   "outputs": [
    {
     "name": "stdout",
     "output_type": "stream",
     "text": [
      "Model: \"sequential\"\n",
      "_________________________________________________________________\n",
      "Layer (type)                 Output Shape              Param #   \n",
      "=================================================================\n",
      "conv2d (Conv2D)              (None, 46, 46, 32)        320       \n",
      "_________________________________________________________________\n",
      "conv2d_1 (Conv2D)            (None, 44, 44, 64)        18496     \n",
      "_________________________________________________________________\n",
      "max_pooling2d (MaxPooling2D) (None, 22, 22, 64)        0         \n",
      "_________________________________________________________________\n",
      "dropout (Dropout)            (None, 22, 22, 64)        0         \n",
      "_________________________________________________________________\n",
      "conv2d_2 (Conv2D)            (None, 20, 20, 128)       73856     \n",
      "_________________________________________________________________\n",
      "max_pooling2d_1 (MaxPooling2 (None, 10, 10, 128)       0         \n",
      "_________________________________________________________________\n",
      "dropout_1 (Dropout)          (None, 10, 10, 128)       0         \n",
      "_________________________________________________________________\n",
      "conv2d_3 (Conv2D)            (None, 8, 8, 256)         295168    \n",
      "_________________________________________________________________\n",
      "max_pooling2d_2 (MaxPooling2 (None, 4, 4, 256)         0         \n",
      "_________________________________________________________________\n",
      "dropout_2 (Dropout)          (None, 4, 4, 256)         0         \n",
      "_________________________________________________________________\n",
      "flatten (Flatten)            (None, 4096)              0         \n",
      "_________________________________________________________________\n",
      "dense (Dense)                (None, 512)               2097664   \n",
      "_________________________________________________________________\n",
      "dropout_3 (Dropout)          (None, 512)               0         \n",
      "_________________________________________________________________\n",
      "dense_1 (Dense)              (None, 7)                 3591      \n",
      "=================================================================\n",
      "Total params: 2,489,095\n",
      "Trainable params: 2,489,095\n",
      "Non-trainable params: 0\n",
      "_________________________________________________________________\n",
      "None\n"
     ]
    }
   ],
   "source": [
    "model = Sequential()\n",
    "\n",
    "model.add(Conv2D(32, kernel_size=(3,3), activation='relu', input_shape=(48,48,1)))\n",
    "\n",
    "model.add(Conv2D(64, kernel_size=(3,3), activation='relu'))\n",
    "model.add(MaxPooling2D(pool_size=(2,2)))\n",
    "model.add(Dropout(0.1))\n",
    "\n",
    "model.add(Conv2D(128, kernel_size=(3,3), activation='relu'))\n",
    "model.add(MaxPooling2D(pool_size=(2,2)))\n",
    "model.add(Dropout(0.1))\n",
    "\n",
    "model.add(Conv2D(256, kernel_size=(3,3), activation='relu'))\n",
    "model.add(MaxPooling2D(pool_size=(2,2)))\n",
    "model.add(Dropout(0.1))\n",
    "\n",
    "model.add(Flatten())\n",
    "model.add(Dense(512, activation='relu'))\n",
    "model.add(Dropout(0.1))\n",
    "\n",
    "model.add(Dense(7, activation='softmax'))\n",
    "\n",
    "model.compile(optimizer = 'adam', loss='categorical_crossentropy', metrics=['accuracy'])\n",
    "print(model.summary())\n",
    "\n"
   ]
  },
  {
   "cell_type": "code",
   "execution_count": 7,
   "id": "8b98a90d",
   "metadata": {},
   "outputs": [],
   "source": [
    "train_path ='train/'\n",
    "test_path ='test/'"
   ]
  },
  {
   "cell_type": "code",
   "execution_count": 8,
   "id": "31e3e70f",
   "metadata": {},
   "outputs": [],
   "source": [
    "num_train_imgs = 0\n",
    "for root, dirs, files in os.walk(train_path):\n",
    "    num_train_imgs += len(files)\n",
    "    \n",
    "num_test_imgs = 0\n",
    "for root, dirs, files in os.walk(test_path):\n",
    "    num_train_imgs += len(files)"
   ]
  },
  {
   "cell_type": "code",
   "execution_count": 9,
   "id": "afd835c8",
   "metadata": {},
   "outputs": [
    {
     "name": "stdout",
     "output_type": "stream",
     "text": [
      "35887\n"
     ]
    }
   ],
   "source": [
    "print(num_train_imgs)"
   ]
  },
  {
   "cell_type": "code",
   "execution_count": 10,
   "id": "cb292118",
   "metadata": {},
   "outputs": [],
   "source": [
    "epochs = 30"
   ]
  },
  {
   "cell_type": "code",
   "execution_count": 11,
   "id": "75336894",
   "metadata": {},
   "outputs": [
    {
     "name": "stdout",
     "output_type": "stream",
     "text": [
      "Epoch 1/30\n",
      "717/717 [==============================] - 648s 899ms/step - loss: 1.7918 - accuracy: 0.2554\n",
      "Epoch 2/30\n",
      "717/717 [==============================] - 308s 429ms/step - loss: 1.6946 - accuracy: 0.3180\n",
      "Epoch 3/30\n",
      "717/717 [==============================] - 257s 357ms/step - loss: 1.5707 - accuracy: 0.3869\n",
      "Epoch 4/30\n",
      "717/717 [==============================] - 203s 283ms/step - loss: 1.4702 - accuracy: 0.4355\n",
      "Epoch 5/30\n",
      "717/717 [==============================] - 203s 283ms/step - loss: 1.4108 - accuracy: 0.4540\n",
      "Epoch 6/30\n",
      "717/717 [==============================] - 299s 417ms/step - loss: 1.3633 - accuracy: 0.4741\n",
      "Epoch 7/30\n",
      "717/717 [==============================] - 308s 430ms/step - loss: 1.3319 - accuracy: 0.4903\n",
      "Epoch 8/30\n",
      "717/717 [==============================] - 305s 425ms/step - loss: 1.3011 - accuracy: 0.5009\n",
      "Epoch 9/30\n",
      "717/717 [==============================] - 318s 444ms/step - loss: 1.2838 - accuracy: 0.5119\n",
      "Epoch 10/30\n",
      "717/717 [==============================] - 309s 431ms/step - loss: 1.2738 - accuracy: 0.5143\n",
      "Epoch 11/30\n",
      "717/717 [==============================] - 309s 430ms/step - loss: 1.2387 - accuracy: 0.5269\n",
      "Epoch 12/30\n",
      "717/717 [==============================] - 314s 438ms/step - loss: 1.2397 - accuracy: 0.5278\n",
      "Epoch 13/30\n",
      "717/717 [==============================] - 364s 508ms/step - loss: 1.2220 - accuracy: 0.5337\n",
      "Epoch 14/30\n",
      "717/717 [==============================] - 374s 521ms/step - loss: 1.2107 - accuracy: 0.5412\n",
      "Epoch 15/30\n",
      "717/717 [==============================] - 270s 376ms/step - loss: 1.2032 - accuracy: 0.5416\n",
      "Epoch 16/30\n",
      "717/717 [==============================] - 195s 272ms/step - loss: 1.1901 - accuracy: 0.5487\n",
      "Epoch 17/30\n",
      "717/717 [==============================] - 196s 273ms/step - loss: 1.1818 - accuracy: 0.5539\n",
      "Epoch 18/30\n",
      "717/717 [==============================] - 188s 262ms/step - loss: 1.1783 - accuracy: 0.5530\n",
      "Epoch 19/30\n",
      "717/717 [==============================] - 196s 273ms/step - loss: 1.1574 - accuracy: 0.5643\n",
      "Epoch 20/30\n",
      "717/717 [==============================] - 201s 280ms/step - loss: 1.1629 - accuracy: 0.5561\n",
      "Epoch 21/30\n",
      "717/717 [==============================] - 178s 249ms/step - loss: 1.1557 - accuracy: 0.5605\n",
      "Epoch 22/30\n",
      "717/717 [==============================] - 162s 227ms/step - loss: 1.1504 - accuracy: 0.5634\n",
      "Epoch 23/30\n",
      "717/717 [==============================] - 167s 232ms/step - loss: 1.1459 - accuracy: 0.5665\n",
      "Epoch 24/30\n",
      "717/717 [==============================] - 163s 228ms/step - loss: 1.1355 - accuracy: 0.5687\n",
      "Epoch 25/30\n",
      "717/717 [==============================] - 172s 239ms/step - loss: 1.1324 - accuracy: 0.5659\n",
      "Epoch 26/30\n",
      "717/717 [==============================] - 169s 236ms/step - loss: 1.1252 - accuracy: 0.5706\n",
      "Epoch 27/30\n",
      "717/717 [==============================] - 159s 222ms/step - loss: 1.1216 - accuracy: 0.5747\n",
      "Epoch 28/30\n",
      "717/717 [==============================] - 161s 224ms/step - loss: 1.1297 - accuracy: 0.5694\n",
      "Epoch 29/30\n",
      "717/717 [==============================] - 154s 214ms/step - loss: 1.1172 - accuracy: 0.5767\n",
      "Epoch 30/30\n",
      "717/717 [==============================] - 169s 235ms/step - loss: 1.1108 - accuracy: 0.5792\n"
     ]
    }
   ],
   "source": [
    "history = model.fit(train_generator,\n",
    "                   steps_per_epoch=num_train_imgs//50,\n",
    "                   epochs=epochs,\n",
    "                   validation_data=validation_generator,\n",
    "                   validation_steps=num_test_imgs//50)\n",
    "model.save('model_file.h5')"
   ]
  },
  {
   "cell_type": "code",
   "execution_count": null,
   "id": "a5985e89",
   "metadata": {},
   "outputs": [],
   "source": []
  }
 ],
 "metadata": {
  "kernelspec": {
   "display_name": "Python 3 (ipykernel)",
   "language": "python",
   "name": "python3"
  },
  "language_info": {
   "codemirror_mode": {
    "name": "ipython",
    "version": 3
   },
   "file_extension": ".py",
   "mimetype": "text/x-python",
   "name": "python",
   "nbconvert_exporter": "python",
   "pygments_lexer": "ipython3",
   "version": "3.9.12"
  }
 },
 "nbformat": 4,
 "nbformat_minor": 5
}
